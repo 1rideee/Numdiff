{
 "cells": [
  {
   "cell_type": "markdown",
   "metadata": {},
   "source": [
    "# Project 1 \n"
   ]
  },
  {
   "cell_type": "code",
   "execution_count": 2,
   "metadata": {},
   "outputs": [],
   "source": [
    "# Required libraries\n",
    "import numpy as np\n",
    "import matplotlib.pyplot as plt\n",
    "from scipy.integrate import solve_ivp\n",
    "from IPython.display import Image\n",
    "import scipy.integrate\n",
    "import random\n",
    "import imageio.v2 as imageio"
   ]
  },
  {
   "cell_type": "markdown",
   "metadata": {},
   "source": [
    "## Numerical experiments of Crank-Nicolson scheme\n",
    "\n",
    "$\n",
    "\\left(I - \\frac{r}{2}D\\right)U^{n+1} = \\left(I + \\frac{r}{2}D +akI+\\frac{ark}{2}D + \\frac{a^2k^2}{2}I\\right)U^{n}$"
   ]
  },
  {
   "cell_type": "code",
   "execution_count": 3,
   "metadata": {},
   "outputs": [
    {
     "ename": "ValueError",
     "evalue": "setting an array element with a sequence.",
     "output_type": "error",
     "traceback": [
      "\u001b[1;31m---------------------------------------------------------------------------\u001b[0m",
      "\u001b[1;31mTypeError\u001b[0m                                 Traceback (most recent call last)",
      "\u001b[1;31mTypeError\u001b[0m: only length-1 arrays can be converted to Python scalars",
      "\nThe above exception was the direct cause of the following exception:\n",
      "\u001b[1;31mValueError\u001b[0m                                Traceback (most recent call last)",
      "Cell \u001b[1;32mIn[3], line 43\u001b[0m\n\u001b[0;32m     40\u001b[0m N \u001b[38;5;241m=\u001b[39m \u001b[38;5;241m100\u001b[39m\n\u001b[0;32m     42\u001b[0m \u001b[38;5;66;03m# solve the equation\u001b[39;00m\n\u001b[1;32m---> 43\u001b[0m t, U \u001b[38;5;241m=\u001b[39m \u001b[43mcrank_nicolson\u001b[49m\u001b[43m(\u001b[49m\u001b[43ma\u001b[49m\u001b[43m,\u001b[49m\u001b[43m \u001b[49m\u001b[43mr\u001b[49m\u001b[43m,\u001b[49m\u001b[43m \u001b[49m\u001b[43mk\u001b[49m\u001b[43m,\u001b[49m\u001b[43m \u001b[49m\u001b[43mT\u001b[49m\u001b[43m,\u001b[49m\u001b[43m \u001b[49m\u001b[43mU0\u001b[49m\u001b[43m,\u001b[49m\u001b[43m \u001b[49m\u001b[43mN\u001b[49m\u001b[43m)\u001b[49m\n\u001b[0;32m     45\u001b[0m \u001b[38;5;66;03m# plot the solution\u001b[39;00m\n\u001b[0;32m     46\u001b[0m plt\u001b[38;5;241m.\u001b[39mplot(t, U)\n",
      "Cell \u001b[1;32mIn[3], line 31\u001b[0m, in \u001b[0;36mcrank_nicolson\u001b[1;34m(a, r, k, T, U0, N)\u001b[0m\n\u001b[0;32m     28\u001b[0m B \u001b[38;5;241m=\u001b[39m I \u001b[38;5;241m-\u001b[39m r\u001b[38;5;241m/\u001b[39m\u001b[38;5;241m2\u001b[39m\u001b[38;5;241m*\u001b[39mD\n\u001b[0;32m     30\u001b[0m \u001b[38;5;28;01mfor\u001b[39;00m n \u001b[38;5;129;01min\u001b[39;00m \u001b[38;5;28mrange\u001b[39m(N):\n\u001b[1;32m---> 31\u001b[0m     \u001b[43mU\u001b[49m\u001b[43m[\u001b[49m\u001b[43mn\u001b[49m\u001b[38;5;241;43m+\u001b[39;49m\u001b[38;5;241;43m1\u001b[39;49m\u001b[43m]\u001b[49m \u001b[38;5;241m=\u001b[39m np\u001b[38;5;241m.\u001b[39mlinalg\u001b[38;5;241m.\u001b[39msolve(A, np\u001b[38;5;241m.\u001b[39mdot(B, U[n]))\n\u001b[0;32m     32\u001b[0m \u001b[38;5;28;01mreturn\u001b[39;00m t, U\n",
      "\u001b[1;31mValueError\u001b[0m: setting an array element with a sequence."
     ]
    }
   ],
   "source": [
    "# implement the modified Crank Nicolson method defined by the equation\n",
    "#\\left(I - \\frac{r}{2}D\\right)U^{n+1} = \\left(I + \\frac{r}{2}D +akI+\\frac{ark}{2}D + \\frac{a^2k^2}{2}I\\right)U^{n}\n",
    "def f(x,a):\n",
    "    return a*x\n",
    "\n",
    "def crank_nicolson(a, r, k, T, U0, N):\n",
    "    h = T/N\n",
    "    t = np.linspace(0, T, N+1)\n",
    "    U = np.zeros(N+1)\n",
    "    U[0] = U0\n",
    "    # create the matrix D\n",
    "    D = np.zeros((N+1, N+1))\n",
    "    for i in range(N+1):\n",
    "        D[i,i] = 1\n",
    "        if i > 0:\n",
    "            D[i,i-1] = -1\n",
    "\n",
    "\n",
    "    # create the matrix I\n",
    "    I = np.zeros((N+1, N+1))\n",
    "    for i in range(N+1):\n",
    "        I[i,i] = 1\n",
    "\n",
    "    # create the matrix A\n",
    "    A = I + r/2*D + a*k*I + r*k/2*D + a**2*k**2/2*I\n",
    "\n",
    "    # create the matrix B\n",
    "    B = I - r/2*D\n",
    "\n",
    "    for n in range(N):\n",
    "        U[n+1] = np.linalg.solve(A, np.dot(B, U[n]))\n",
    "    return t, U\n",
    "\n",
    "# define the parameters\n",
    "a = 1\n",
    "r = 1\n",
    "k = 0.1\n",
    "T = 1\n",
    "U0 = 1\n",
    "N = 100\n",
    "\n",
    "# solve the equation\n",
    "t, U = crank_nicolson(a, r, k, T, U0, N)\n",
    "\n",
    "# plot the solution\n",
    "plt.plot(t, U)\n",
    "plt.xlabel('t')\n",
    "plt.ylabel('U')\n",
    "plt.title('Solution of the equation')\n",
    "plt.show()\n",
    "\n"
   ]
  },
  {
   "cell_type": "markdown",
   "metadata": {},
   "source": [
    "## Application of the SIR model\n",
    "We first create a simple SIR model using the model described in p1.pdf. The ODE is solved using the scipy library."
   ]
  },
  {
   "cell_type": "code",
   "execution_count": null,
   "metadata": {},
   "outputs": [],
   "source": [
    "# Defining the model in form of ODE\n",
    "def SIR_ODE(SIR, t, Beta, Gamma):\n",
    "    \"\"\"\n",
    "    Input:\n",
    "    SIR: list of 3 elements, S, I, R\n",
    "    t: time\n",
    "    Beta: transmission rate\n",
    "    Gamma: recovery/death rate\n",
    "\n",
    "    return:\n",
    "    list of diffrentials of S, I and R\n",
    "    \"\"\"\n",
    "    S, I, R = SIR\n",
    "    dS =  - Beta*S*I\n",
    "    dI = Beta*S*I - Gamma*I\n",
    "    dR = Gamma*I\n",
    "    return [dS, dI, dR]\n",
    "\n",
    "t = np.arange(0, 100, 1)\n",
    "\n",
    "N = 10000\n",
    "I = 1/N\n",
    "S = (N - 1)/N\n",
    "R = 0\n",
    "\n",
    "Beta0, Gamma0 = 3, 1\n",
    "\n",
    "#Solving the ODE \n",
    "solution = scipy.integrate.odeint(SIR_ODE, y0 =[S, I, R], t=t, args=(Beta0, Gamma0) )\n"
   ]
  },
  {
   "cell_type": "code",
   "execution_count": null,
   "metadata": {},
   "outputs": [],
   "source": [
    "\n",
    "plt.plot(t, solution[:,0], label='S')\n",
    "plt.plot(t, solution[:,1], label='I')\n",
    "plt.plot(t, solution[:,2], label='R')\n",
    "plt.plot(t, solution[:,0] + solution[:,1] + solution[:,2], label='N')\n",
    "plt.legend()\n",
    "plt.xlabel('time')\n",
    "plt.ylabel('Percent of population')\n",
    "plt.show()"
   ]
  },
  {
   "cell_type": "markdown",
   "metadata": {},
   "source": [
    "## Attempting multiple intitial values\n",
    "\n",
    "Now that we have a working model, we generalize it into a function, then attempt different initial conditions "
   ]
  },
  {
   "cell_type": "code",
   "execution_count": null,
   "metadata": {},
   "outputs": [],
   "source": [
    "def simulate(I0, Beta0, Gamma0, N= 10000):\n",
    "    t = np.arange(0, 100, 1)\n",
    "\n",
    "    I = I0/N\n",
    "    S = (N - I0)/N\n",
    "    R = 0\n",
    "\n",
    "    solution = scipy.integrate.odeint(SIR_ODE, y0=[S, I, R], t=t, args=(Beta0, Gamma0) )\n",
    "    plt.plot(t, solution[:,0], label='S')\n",
    "    plt.plot(t, solution[:,1], label='I')\n",
    "    plt.plot(t, solution[:,2], label='R')\n",
    "    plt.plot(t, solution[:,0] + solution[:,1] + solution[:,2], label='N')\n",
    "    plt.legend()\n",
    "    plt.xlabel('time')\n",
    "    \n",
    "    plt.ylabel('Percent of population')\n",
    "    plt.title('Beta = ' + str(Beta0) + ' Gamma = ' + str(Gamma0) + ' I_0 = ' + str(I0))\n",
    "    plt.show()"
   ]
  },
  {
   "cell_type": "code",
   "execution_count": null,
   "metadata": {},
   "outputs": [],
   "source": [
    "\n",
    "for i in range(1, 100, 30):\n",
    "    for g in range(1, 10, 3):\n",
    "        for b in range(1, 10, 3):\n",
    "            simulate(i, b, g, N=100)"
   ]
  },
  {
   "cell_type": "markdown",
   "metadata": {},
   "source": [
    "# Studying the spread of disease in space"
   ]
  },
  {
   "cell_type": "code",
   "execution_count": null,
   "metadata": {},
   "outputs": [],
   "source": [
    "mu_s = 0.01\n",
    "mu_i = 0.01\n",
    "Beta0 = 3\n",
    "Gamma0 = 1\n",
    "\n",
    "\n",
    "\n",
    "M=50\n",
    "N=500\n",
    "k = 1/N\n",
    "h = 1/M\n",
    "\n",
    "def scheme_S(S, I, i, j, n, mu=mu_s, Beta=Beta0, k=k, h=h):\n",
    "    if  k*mu/h**2>0.25:\n",
    "        print( \"stability condition not met\")\n",
    "    return (k*mu/h**2) *(S[i-1,j, n-1] + S[i+1,j,n-1] + S[i,j-1,n-1] + S[i,j+1,n-1]) + (1-k*Beta*I[i,j,n-1]- 4*k*mu/h**2) * S[i,j,n-1]\n",
    "\n",
    "\n",
    "def scheme_I(S, I, i, j, n, mu=mu_i, Beta=Beta0, k=k, h=h, Gamma=Gamma0):\n",
    "    if  k*mu/h**2>0.25:\n",
    "        print( \"stability condition not met\")\n",
    "    return I[i,j,n-1]*(k*Beta*S[i,j,n-1] - k*Gamma + 1 - 4*k*mu/h**2) + (k*mu/h**2)*(I[i-1,j,n-1] + I[i+1,j,n-1] + I[i,j-1,n-1] + I[i,j+1,n-1])\n",
    "\n",
    "\n",
    "S = np.ones((M, M, N))\n",
    "I = np.zeros((M, M, N))\n",
    "\n",
    "#Removing the boundary points\n",
    "S[0,:,:] = 1\n",
    "S[-1,:,:] = 1 \n",
    "S[:,0,:] = 1\n",
    "S[:,-1,:] = 1\n",
    "\n",
    "#Removing the boundary points\n",
    "I[0,:,:] = 0\n",
    "I[-1,:,:] = 0\n",
    "I[:,0,:] = 0\n",
    "I[:,-1,:] = 0\n",
    "\n",
    "# Adding a small number of infected people to the system\n",
    "I[10:25,10:25,0] = 0.1\n",
    "S = S - I\n",
    "\n",
    "\n",
    "\n",
    "\n",
    "for n in range(1,N):\n",
    "    for i in range(1,M-1):\n",
    "        for j in range(1,M-1):\n",
    "\n",
    "            S[i,j,n] = scheme_S(S, I, i,j,n)#(k*mu_s/h**2) *(S[i-1,j, n-1] + S[i+1,j,n-1] + S[i,j-1,n-1] + S[i,j+1,n-1]) + (1-k*Beta0*I[i,j,n-1]- 4*k*mu_s/h**2) * S[i,j,n-1] \n",
    "            I[i,j,n] = scheme_I(S, I, i,j,n)#I[i,j,n-1]*(k*Beta0*S[i,j,n-1] - k*Gamma0 + 1 - 4*k*mu_i/h**2) + (k*mu_i/h**2)*(I[i-1,j,n-1] + I[i+1,j,n-1] + I[i,j-1,n-1] + I[i,j+1,n-1])\n",
    "\n",
    "R = 1 - S - I\n",
    "\n",
    "\n",
    "\n"
   ]
  },
  {
   "cell_type": "code",
   "execution_count": null,
   "metadata": {},
   "outputs": [],
   "source": [
    "for i in range(0, N, round(N/10)):\n",
    "    plt.imshow(S[:,:,i], vmin=0, vmax=1)\n",
    "    plt.title(f'S at time {i}')\n",
    "    plt.colorbar()\n",
    "    plt.grid()\n",
    "    plt.show()\n",
    "    \n",
    "    \n",
    "    plt.imshow(I[:,:,i], vmin=0, vmax=1)\n",
    "    plt.title(f'I at time {i}')\n",
    "    plt.colorbar()\n",
    "    plt.grid()\n",
    "    plt.show()"
   ]
  },
  {
   "cell_type": "markdown",
   "metadata": {},
   "source": [
    "## Saving the plots as gif's to better display them\n",
    "\n",
    "This part is quite computing intensive so avoid running them too much"
   ]
  },
  {
   "cell_type": "code",
   "execution_count": null,
   "metadata": {},
   "outputs": [],
   "source": [
    "images = []\n",
    "\n",
    "for i in range(0, N, round(N/100)):\n",
    "    plt.imshow(S[:,:,i], vmin=0, vmax=1)\n",
    "    plt.title(f'Susceptible people at time {i}')\n",
    "    plt.colorbar()\n",
    "    plt.grid()\n",
    "    plt.savefig('S.png')\n",
    "    images.append(imageio.imread('S.png'))\n",
    "    plt.close()\n",
    "imageio.mimsave('S.gif', images)\n",
    "\n",
    "images = []\n",
    "\n",
    "for i in range(0, N, round(N/100)):\n",
    "    plt.imshow(I[:,:,i], vmin=0, vmax=1)\n",
    "    plt.title(f'Infected people at time {i}')\n",
    "    plt.colorbar()\n",
    "    plt.grid()\n",
    "    plt.savefig('I.png')\n",
    "    images.append(imageio.imread('I.png'))\n",
    "    plt.close()\n",
    "\n",
    "imageio.mimsave('I.gif', images)\n",
    "\n",
    "images = []\n",
    "for i in range(0, N, round(N/100)):\n",
    "    plt.imshow(R[:,:,i], vmin=0, vmax=1)\n",
    "    plt.title(f'Removed people at time {i}')\n",
    "    plt.colorbar()\n",
    "    plt.grid()\n",
    "    plt.savefig('R.png')\n",
    "    images.append(imageio.imread('R.png'))\n",
    "    plt.close()\n",
    "\n",
    "imageio.mimsave('R.gif', images)\n",
    "\n"
   ]
  },
  {
   "cell_type": "code",
   "execution_count": null,
   "metadata": {},
   "outputs": [],
   "source": [
    "Image(filename=\"S.gif\")"
   ]
  },
  {
   "cell_type": "code",
   "execution_count": null,
   "metadata": {},
   "outputs": [],
   "source": [
    "Image(filename=\"I.gif\")"
   ]
  },
  {
   "cell_type": "code",
   "execution_count": null,
   "metadata": {},
   "outputs": [],
   "source": [
    "Image(filename=\"R.gif\")\n"
   ]
  },
  {
   "cell_type": "code",
   "execution_count": null,
   "metadata": {},
   "outputs": [],
   "source": [
    "# Define the sceme for the SIR model\n",
    "def simulate_infections(S, I, mu_s, mu_i, Beta0, Gamma0, M, N, k, h):\n",
    "    for n in range(1,N):\n",
    "        for i in range(1,M-1):\n",
    "            for j in range(1,M-1):\n",
    "                S[i,j,n] = scheme_S(S, I, i, j, n, mu_s, Beta0, k, h)\n",
    "                I[i,j,n] = scheme_I(S, I, i, j, n, mu_i, Beta0, k, h, Gamma0)\n",
    "\n",
    "    R = 1 - S - I\n",
    "    return S, I, R\n",
    "\n",
    "def plot_infections(S, I, T):\n",
    "    for t in range(0, T, round(T/5)):\n",
    "        plt.imshow(S[:,:,t], vmin=0, vmax=1)\n",
    "        plt.title(f'S at time {t}')\n",
    "        plt.colorbar()\n",
    "        plt.grid()\n",
    "        plt.show()\n",
    "\n",
    "        plt.imshow(I[:,:,t], vmin=0, vmax=1)\n",
    "        plt.title(f'I at time {t}')\n",
    "        plt.colorbar()\n",
    "        plt.grid()\n",
    "        plt.show()\n",
    "        \n"
   ]
  },
  {
   "cell_type": "markdown",
   "metadata": {},
   "source": [
    "## Using an infected boundary "
   ]
  },
  {
   "cell_type": "code",
   "execution_count": null,
   "metadata": {},
   "outputs": [],
   "source": [
    "\n",
    "S = np.ones((M, M, N))\n",
    "I = np.zeros((M, M, N))\n",
    "\n",
    "#Removing the boundary points\n",
    "S[0,:,:] = 0\n",
    "S[-1,:,:] = 0\n",
    "S[:,0,:] = 0\n",
    "S[:,-1,:] = 0\n",
    "\n",
    "#Infecting the boundary points\n",
    "I[0,:,:] = 1\n",
    "I[-1,:,:] = 1\n",
    "I[:,0,:] = 1\n",
    "I[:,-1,:] = 1\n",
    "\n",
    "S, I, R = simulate_infections(S, I, mu_s, mu_i, Beta0, Gamma0, M, N, k, h)\n",
    "plot_infections(S, I, N)\n"
   ]
  },
  {
   "cell_type": "markdown",
   "metadata": {},
   "source": [
    "# Trying out different intial contitions"
   ]
  },
  {
   "cell_type": "code",
   "execution_count": null,
   "metadata": {},
   "outputs": [],
   "source": [
    "mu_s = 0.01\n",
    "mu_i = 0.001\n",
    "Beta0 = 3\n",
    "Gamma0 = 1\n",
    "\n",
    "M=50\n",
    "N=500\n",
    "k = 1/N\n",
    "h = 1/M\n",
    "\n",
    "#Random intial infection\n",
    "S = np.random.randint(9,11, (M,M,N))/10\n",
    "I = 1 - S\n",
    "\n",
    "#Removing the boundary points\n",
    "S[0,:,:] = 0\n",
    "S[-1,:,:] = 0\n",
    "S[:,0,:] = 0\n",
    "S[:,-1,:] = 0\n",
    "\n",
    "#Removing the boundary points\n",
    "I[0,:,:] = 0\n",
    "I[-1,:,:] = 0\n",
    "I[:,0,:] = 0\n",
    "I[:,-1,:] = 0\n",
    "\n",
    "S, I, R = simulate_infections(S, I, mu_s, mu_i, Beta0, Gamma0, M, N, k, h)\n",
    "plot_infections(S, I, N)\n"
   ]
  },
  {
   "cell_type": "code",
   "execution_count": null,
   "metadata": {},
   "outputs": [],
   "source": [
    "images = []\n",
    "\n",
    "for i in range(0, N, round(N/100)):\n",
    "    plt.imshow(S[:,:,i], vmin=0, vmax=1)\n",
    "    plt.title(f'Susceptible people at time {i}')\n",
    "    plt.colorbar()\n",
    "    plt.grid()\n",
    "    plt.savefig('S.png')\n",
    "    images.append(imageio.imread('S.png'))\n",
    "    plt.close()\n",
    "imageio.mimsave('S.gif', images)\n",
    "\n",
    "images = []\n",
    "\n",
    "for i in range(0, N, round(N/100)):\n",
    "    plt.imshow(I[:,:,i], vmin=0, vmax=1)\n",
    "    plt.title(f'Infected people at time {i}')\n",
    "    plt.colorbar()\n",
    "    plt.grid()\n",
    "    plt.savefig('I.png')\n",
    "    images.append(imageio.imread('I.png'))\n",
    "    plt.close()\n",
    "\n",
    "imageio.mimsave('I.gif', images)\n",
    "\n",
    "Image(filename=\"S.gif\")\n"
   ]
  },
  {
   "cell_type": "code",
   "execution_count": null,
   "metadata": {},
   "outputs": [],
   "source": [
    "Image(filename=\"I.gif\")"
   ]
  },
  {
   "cell_type": "code",
   "execution_count": null,
   "metadata": {},
   "outputs": [],
   "source": [
    "for i in range(0, N, round(N/10)):\n",
    "    plt.imshow(R[:,:,i], vmin=0, vmax=1)\n",
    "    plt.title(f'R at time {i}')\n",
    "    plt.colorbar()\n",
    "    plt.grid()\n",
    "    plt.show()"
   ]
  },
  {
   "cell_type": "markdown",
   "metadata": {},
   "source": [
    "# Simulating people in one area not washing hands"
   ]
  },
  {
   "cell_type": "code",
   "execution_count": null,
   "metadata": {},
   "outputs": [],
   "source": [
    "# Define the sceme for the SIR model\n",
    "def simulate_dirtyhands(S, I, mu_s, mu_i, Beta0, Beta_dh, Gamma0, M, N, k, h):\n",
    "    for n in range(1,N):\n",
    "        for i in range(1,M-1):\n",
    "            for j in range(1,M-1):\n",
    "                if i<10 and j < 10:\n",
    "                    S[i,j,n] = scheme_S(S, I, i, j, n, mu_s, Beta_dh, k, h)\n",
    "                    I[i,j,n] = scheme_I(S, I, i, j, n, mu_i, Beta_dh, k, h, Gamma0)\n",
    "                else:\n",
    "                    S[i,j,n] = scheme_S(S, I, i, j, n, mu_s, Beta0, k, h)\n",
    "                    I[i,j,n] = scheme_I(S, I, i, j, n, mu_i, Beta0, k, h, Gamma0)\n",
    "\n",
    "    R = 1 - S - I\n",
    "    return S, I, R\n",
    "\n",
    "N=1000\n",
    "\n",
    "#Random intial infection\n",
    "S = np.random.randint(9,11, (M,M,N))/10\n",
    "I = 1 - S\n",
    "\n",
    "#Setting the boundary to be healthy\n",
    "S[0,:,:] = 1\n",
    "S[-1,:,:] = 1\n",
    "S[:,0,:] = 1\n",
    "S[:,-1,:] = 1\n",
    "\n",
    "#Removing the boundary points\n",
    "I[0,:,:] = 0\n",
    "I[-1,:,:] = 0\n",
    "I[:,0,:] = 0\n",
    "I[:,-1,:] = 0\n",
    "\n",
    "S,I, R = simulate_dirtyhands(S, I, mu_s, mu_i, Beta0, 60, Gamma0, M, N, k, h)"
   ]
  },
  {
   "cell_type": "code",
   "execution_count": null,
   "metadata": {},
   "outputs": [],
   "source": [
    "plot_infections(S, I, N)\n"
   ]
  },
  {
   "cell_type": "code",
   "execution_count": null,
   "metadata": {},
   "outputs": [],
   "source": [
    "images = []\n",
    "\n",
    "for i in range(0, N, round(N/100)):\n",
    "    plt.imshow(S[:,:,i], vmin=0, vmax=1)\n",
    "    plt.title(f'Susceptible people at time {i}')\n",
    "    plt.colorbar()\n",
    "    plt.grid()\n",
    "    plt.savefig('S.png')\n",
    "    images.append(imageio.imread('S.png'))\n",
    "    plt.close()\n",
    "imageio.mimsave('S_dh.gif', images)\n",
    "\n",
    "images = []\n",
    "\n",
    "for i in range(0, N, round(N/100)):\n",
    "    plt.imshow(I[:,:,i], vmin=0, vmax=1)\n",
    "    plt.title(f'Infected people at time {i}')\n",
    "    plt.colorbar()\n",
    "    plt.grid()\n",
    "    plt.savefig('I.png')\n",
    "    images.append(imageio.imread('I.png'))\n",
    "    plt.close()\n",
    "\n",
    "imageio.mimsave('I_dh.gif', images)\n",
    "\n"
   ]
  },
  {
   "cell_type": "code",
   "execution_count": null,
   "metadata": {},
   "outputs": [],
   "source": [
    "#Show both gifs in subplots at the same time\n",
    "\n",
    "Image(filename=\"S_dh.gif\")"
   ]
  },
  {
   "cell_type": "code",
   "execution_count": null,
   "metadata": {},
   "outputs": [],
   "source": [
    "Image(filename=\"I_dh.gif\")\n",
    "\n"
   ]
  }
 ],
 "metadata": {
  "kernelspec": {
   "display_name": "Python 3",
   "language": "python",
   "name": "python3"
  },
  "language_info": {
   "codemirror_mode": {
    "name": "ipython",
    "version": 3
   },
   "file_extension": ".py",
   "mimetype": "text/x-python",
   "name": "python",
   "nbconvert_exporter": "python",
   "pygments_lexer": "ipython3",
   "version": "3.13.1"
  }
 },
 "nbformat": 4,
 "nbformat_minor": 2
}
